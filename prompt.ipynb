{
 "cells": [
  {
   "cell_type": "code",
   "execution_count": 1,
   "id": "2f5ad7cd-abc8-4c46-ada8-060b8df321e5",
   "metadata": {},
   "outputs": [],
   "source": [
    "from langchain_community.llms import Ollama\n",
    "client = Ollama(model='llama2')"
   ]
  },
  {
   "cell_type": "code",
   "execution_count": 2,
   "id": "ad9a4d63-aca1-40cd-af22-9e0cfb63ae78",
   "metadata": {},
   "outputs": [],
   "source": [
    "from langchain.prompts import PromptTemplate, ChatPromptTemplate"
   ]
  },
  {
   "cell_type": "code",
   "execution_count": 3,
   "id": "fa1d6dd3-7a8f-414c-b80f-10163b83432d",
   "metadata": {},
   "outputs": [
    {
     "data": {
      "text/plain": [
       "StringPromptValue(text='tell me a joke about soccer')"
      ]
     },
     "execution_count": 3,
     "metadata": {},
     "output_type": "execute_result"
    }
   ],
   "source": [
    "string_prompt = PromptTemplate.from_template('tell me a joke about {subject}')\n",
    "string_prompt_value = string_prompt.format_prompt(subject='soccer')\n",
    "string_prompt_value"
   ]
  },
  {
   "cell_type": "code",
   "execution_count": 4,
   "id": "c41b9757-eff8-47fd-b90f-a9085b139eba",
   "metadata": {},
   "outputs": [
    {
     "data": {
      "text/plain": [
       "'tell me a joke about soccer'"
      ]
     },
     "execution_count": 4,
     "metadata": {},
     "output_type": "execute_result"
    }
   ],
   "source": [
    "string_prompt_value.to_string()"
   ]
  },
  {
   "cell_type": "code",
   "execution_count": 5,
   "id": "b34e9aad-9c67-4667-920e-16555a6f9dd1",
   "metadata": {},
   "outputs": [],
   "source": [
    "cooking_template = \"\"\"\n",
    "As a cook, recommend cusines you can make with ingredients you have, \n",
    "and describe that recipe.\n",
    "\n",
    "<Ingredients>\n",
    "{ingredients}\n",
    "\"\"\"\n",
    "\n",
    "cooking_prompt = PromptTemplate(input_variables=['ingredients'], template=cooking_template)"
   ]
  },
  {
   "cell_type": "code",
   "execution_count": 9,
   "id": "52356c65-9722-4e22-9788-4c1ce809060e",
   "metadata": {},
   "outputs": [],
   "source": [
    "\n",
    "recipes = client.invoke(cooking_prompt.format(ingredients='onion, apple, bread'))"
   ]
  },
  {
   "cell_type": "code",
   "execution_count": 10,
   "id": "c2ed7c27-270c-4158-82c2-876ecdae89a5",
   "metadata": {},
   "outputs": [
    {
     "name": "stdout",
     "output_type": "stream",
     "text": [
      "Great! With the ingredients you have, here are some delicious dishes you can whip up:\n",
      "\n",
      "Recipe 1: Onion and Apple Bread Pudding\n",
      "\n",
      "* Preheat your oven to 350°F (175°C).\n",
      "* Chop the onion and apple into small pieces and sauté them in a pan until they're soft and fragrant.\n",
      "* Cube the bread into small pieces and toss it with the sautéed onion and apple mixture.\n",
      "* Transfer the bread mixture to a baking dish and sprinkle some cinnamon and nutmeg over it.\n",
      "* Bake for 20-25 minutes or until the bread is golden brown and the filling is heated through.\n",
      "* Serve warm with a scoop of vanilla ice cream or whipped cream.\n",
      "\n",
      "Recipe 2: Onion and Apple Salad\n",
      "\n",
      "* Chop the onion and apple into small pieces and mix them together in a bowl.\n",
      "* Dress the salad with your favorite vinaigrette dressing (or make your own by whisking together olive oil, lemon juice, salt, and pepper).\n",
      "* Top the salad with some crumbled feta cheese and chopped nuts for added flavor and crunch.\n",
      "* Serve chilled and enjoy!\n",
      "\n",
      "Recipe 3: Onion and Apple Grilled Cheese\n",
      "\n",
      "* Chop the onion and apple into small pieces and sauté them in a pan until they're soft and fragrant.\n",
      "* Butter two slices of bread on one side and place them, buttered side up, in a skillet or griddle over medium heat.\n",
      "* Add some shredded cheese (such as cheddar or mozzarella) to one slice of bread and top with the sautéed onion and apple mixture.\n",
      "* Place the other slice of bread, buttered side down, on top of the filling and cook for 2-3 minutes or until the bread is golden brown and the cheese is melted.\n",
      "* Flip the sandwich over and cook for another minute or until the other side is also golden brown.\n",
      "* Serve hot and enjoy!\n"
     ]
    }
   ],
   "source": [
    "print(recipes)"
   ]
  },
  {
   "cell_type": "markdown",
   "id": "727a70ae-bd67-485e-8f6f-1169fda11925",
   "metadata": {},
   "source": [
    "##### from langchain_core.prompts import (ChatPromptTemplate, PromptTemplate, \n",
    "SystemMessagePromptTemplate, AIMessagePromptTemplate, HumanMessagePromptTemplate)\n",
    "from langchain.schema import (AIMessage, HumanMessage, SystemMessage)"
   ]
  },
  {
   "cell_type": "code",
   "execution_count": 23,
   "id": "de2826ba-f287-418d-b21f-7bcc021d83c7",
   "metadata": {},
   "outputs": [
    {
     "name": "stdout",
     "output_type": "stream",
     "text": [
      "[SystemMessage(content='\\nAs a cook, recommend cusines you can make with ingredients you have, \\nand describe that recipe.\\n\\n<Ingredients>\\n양파, 계란, 사과, 빵\\n'), HumanMessage(content='양파, 계란, 사과, 빵')]\n"
     ]
    }
   ],
   "source": [
    "from langchain_community.chat_models import ChatOllama\n",
    "\n",
    "#모델 로드 \n",
    "client = ChatOllama(model='llama2', temperature=0)\n",
    "system_template = \"You are a {persona}\"\n",
    "system_message_prompt = SystemMessagePromptTemplate.from_template(cooking_template)\n",
    "\n",
    "human_template = \"{ingredients}\"\n",
    "human_message_prompt = HumanMessagePromptTemplate.from_template(human_template)\n",
    "\n",
    "chat_prompt = ChatPromptTemplate.from_messages([system_message_prompt, human_message_prompt])\n",
    "print(chat_prompt.format_prompt(ingredients=\"양파, 계란, 사과, 빵\").to_messages())"
   ]
  },
  {
   "cell_type": "code",
   "execution_count": 21,
   "id": "7fc22d7e-6457-4e15-9900-0848a56892f9",
   "metadata": {},
   "outputs": [
    {
     "name": "stdout",
     "output_type": "stream",
     "text": [
      "Great! Based on the ingredients you have, here are some delicious dishes you can make:\n",
      "\n",
      "1. Korean-style Fried Rice:\n",
      "* Cook the rice in a pan with a little oil until it's lightly browned.\n",
      "* Add the beaten eggs and scramble them until they're cooked through.\n",
      "* Add the sliced apples and stir-fry for about 2 minutes.\n",
      "* Add the cooked rice and stir-fry until everything is well combined.\n",
      "* Season with salt and pepper to taste.\n",
      "2. Grilled Cheese Sandwich:\n",
      "* Butter two slices of bread on the sides that will face each other when assembled.\n",
      "* Place one slice, buttered side down, in a pan over medium heat.\n",
      "* Add a slice of cheese on top of the bread in the pan.\n",
      "* Place the other slice of bread, buttered side up, on top of the cheese.\n",
      "* Cook until the bread is golden brown and the cheese is melted.\n",
      "* Flip the sandwich over and cook for another minute or two until the other side is also golden brown.\n",
      "3. Apple and Cheese Quesadilla:\n",
      "* Place a slice of cheese in the center of one of the tortillas.\n",
      "* Add sliced apples on top of the cheese.\n",
      "* Fold the tortilla in half to enclose the filling.\n",
      "* Cook in a pan over medium heat until the tortilla is crispy and the cheese is melted.\n",
      "4. Baked Apples with Cheese:\n",
      "* Core and slice the apples.\n",
      "* Place them in a baking dish and sprinkle grated cheese on top of each apple slice.\n",
      "* Bake in a preheated oven at 375°F for about 20-25 minutes or until the apples are tender and the cheese is melted.\n",
      "\n",
      "I hope these recipe ideas inspire you to create something delicious with the ingredients you have on hand!\n"
     ]
    }
   ],
   "source": [
    "answer = client.invoke(chat_prompt.format_prompt(ingredients=\"양파, 계란, 사과, 빵\").to_messages())\n",
    "print(answer.content)"
   ]
  },
  {
   "cell_type": "code",
   "execution_count": 24,
   "id": "526e38fa-151a-421a-a29a-2b6cb6073b17",
   "metadata": {},
   "outputs": [],
   "source": [
    "# Few Shot Learning\n",
    "\n",
    "from langchain.prompts.few_shot import FewShotPromptTemplate\n",
    "from langchain.prompts.prompt import PromptTemplate\n",
    "\n",
    "examples = [\n",
    "    {\n",
    "        \"question\": \"Who lived longer, Muhammad Ali or Alan Turing?\",\n",
    "        \"answer\": \"\"\"\n",
    "Are follow up questions needed here: Yes.\n",
    "Follow up: How old was Muhammad Ali when he died?\n",
    "Intermediate answer: Muhammad Ali was 74 years old when he died.\n",
    "Follow up: How old was Alan Turing when he died?\n",
    "Intermediate answer: Alan Turing was 41 years old when he died.\n",
    "So the final answer is: Muhammad Ali\n",
    "\"\"\",\n",
    "    },\n",
    "    {\n",
    "        \"question\": \"When was the founder of craigslist born?\",\n",
    "        \"answer\": \"\"\"\n",
    "Are follow up questions needed here: Yes.\n",
    "Follow up: Who was the founder of craigslist?\n",
    "Intermediate answer: Craigslist was founded by Craig Newmark.\n",
    "Follow up: When was Craig Newmark born?\n",
    "Intermediate answer: Craig Newmark was born on December 6, 1952.\n",
    "So the final answer is: December 6, 1952\n",
    "\"\"\",\n",
    "    },\n",
    "    {\n",
    "        \"question\": \"Who was the maternal grandfather of George Washington?\",\n",
    "        \"answer\": \"\"\"\n",
    "Are follow up questions needed here: Yes.\n",
    "Follow up: Who was the mother of George Washington?\n",
    "Intermediate answer: The mother of George Washington was Mary Ball Washington.\n",
    "Follow up: Who was the father of Mary Ball Washington?\n",
    "Intermediate answer: The father of Mary Ball Washington was Joseph Ball.\n",
    "So the final answer is: Joseph Ball\n",
    "\"\"\",\n",
    "    },\n",
    "    {\n",
    "        \"question\": \"Are both the directors of Jaws and Casino Royale from the same country?\",\n",
    "        \"answer\": \"\"\"\n",
    "Are follow up questions needed here: Yes.\n",
    "Follow up: Who is the director of Jaws?\n",
    "Intermediate Answer: The director of Jaws is Steven Spielberg.\n",
    "Follow up: Where is Steven Spielberg from?\n",
    "Intermediate Answer: The United States.\n",
    "Follow up: Who is the director of Casino Royale?\n",
    "Intermediate Answer: The director of Casino Royale is Martin Campbell.\n",
    "Follow up: Where is Martin Campbell from?\n",
    "Intermediate Answer: New Zealand.\n",
    "So the final answer is: No\n",
    "\"\"\",\n",
    "    },\n",
    "]"
   ]
  },
  {
   "cell_type": "code",
   "execution_count": 26,
   "id": "2f7d8f56-8d7a-4b7b-b224-88d343875edc",
   "metadata": {},
   "outputs": [
    {
     "name": "stdout",
     "output_type": "stream",
     "text": [
      "Question: Who lived longer, Muhammad Ali or Alan Turing?\n",
      "\n",
      "Are follow up questions needed here: Yes.\n",
      "Follow up: How old was Muhammad Ali when he died?\n",
      "Intermediate answer: Muhammad Ali was 74 years old when he died.\n",
      "Follow up: How old was Alan Turing when he died?\n",
      "Intermediate answer: Alan Turing was 41 years old when he died.\n",
      "So the final answer is: Muhammad Ali\n",
      "\n"
     ]
    }
   ],
   "source": [
    "example_prompt = PromptTemplate(input_variables=[\"question\", \"answer\"], template=\"Question: {question}\\n{answer}\")\n",
    "print(example_prompt.format(**examples[0]))"
   ]
  },
  {
   "cell_type": "code",
   "execution_count": 32,
   "id": "3e7c6fc1-40ca-406a-bfde-929bbc03d76b",
   "metadata": {},
   "outputs": [
    {
     "data": {
      "text/plain": [
       "'Question: Who lived longer, Muhammad Ali or Alan Turing?\\n\\nAre follow up questions needed here: Yes.\\nFollow up: How old was Muhammad Ali when he died?\\nIntermediate answer: Muhammad Ali was 74 years old when he died.\\nFollow up: How old was Alan Turing when he died?\\nIntermediate answer: Alan Turing was 41 years old when he died.\\nSo the final answer is: Muhammad Ali\\n\\n\\nQuestion: When was the founder of craigslist born?\\n\\nAre follow up questions needed here: Yes.\\nFollow up: Who was the founder of craigslist?\\nIntermediate answer: Craigslist was founded by Craig Newmark.\\nFollow up: When was Craig Newmark born?\\nIntermediate answer: Craig Newmark was born on December 6, 1952.\\nSo the final answer is: December 6, 1952\\n\\n\\nQuestion: Who was the maternal grandfather of George Washington?\\n\\nAre follow up questions needed here: Yes.\\nFollow up: Who was the mother of George Washington?\\nIntermediate answer: The mother of George Washington was Mary Ball Washington.\\nFollow up: Who was the father of Mary Ball Washington?\\nIntermediate answer: The father of Mary Ball Washington was Joseph Ball.\\nSo the final answer is: Joseph Ball\\n\\n\\nQuestion: Are both the directors of Jaws and Casino Royale from the same country?\\n\\nAre follow up questions needed here: Yes.\\nFollow up: Who is the director of Jaws?\\nIntermediate Answer: The director of Jaws is Steven Spielberg.\\nFollow up: Where is Steven Spielberg from?\\nIntermediate Answer: The United States.\\nFollow up: Who is the director of Casino Royale?\\nIntermediate Answer: The director of Casino Royale is Martin Campbell.\\nFollow up: Where is Martin Campbell from?\\nIntermediate Answer: New Zealand.\\nSo the final answer is: No\\n\\n\\nQuestion: Who was the father of Mary Ball Washington?'"
      ]
     },
     "execution_count": 32,
     "metadata": {},
     "output_type": "execute_result"
    }
   ],
   "source": [
    "prompt = FewShotPromptTemplate(examples = examples, example_prompt= example_prompt, suffix = \"Question: {input}\", input_variables=[\"input\"])\n",
    "prompt.format(input=\"Who was the father of Mary Ball Washington?\")"
   ]
  },
  {
   "cell_type": "code",
   "execution_count": 36,
   "id": "f48b5367-906c-4db5-8018-a6d23e9deedc",
   "metadata": {},
   "outputs": [
    {
     "ename": "ValidationError",
     "evalue": "1 validation error for OpenAIEmbeddings\n__root__\n  Did not find openai_api_key, please add an environment variable `OPENAI_API_KEY` which contains it, or pass `openai_api_key` as a named parameter. (type=value_error)",
     "output_type": "error",
     "traceback": [
      "\u001b[0;31m---------------------------------------------------------------------------\u001b[0m",
      "\u001b[0;31mValidationError\u001b[0m                           Traceback (most recent call last)",
      "Cell \u001b[0;32mIn[36], line 9\u001b[0m\n\u001b[1;32m      2\u001b[0m \u001b[38;5;28;01mfrom\u001b[39;00m \u001b[38;5;21;01mlangchain_community\u001b[39;00m\u001b[38;5;21;01m.\u001b[39;00m\u001b[38;5;21;01mvectorstores\u001b[39;00m \u001b[38;5;28;01mimport\u001b[39;00m Chroma\n\u001b[1;32m      3\u001b[0m \u001b[38;5;28;01mfrom\u001b[39;00m \u001b[38;5;21;01mlangchain_openai\u001b[39;00m \u001b[38;5;28;01mimport\u001b[39;00m OpenAIEmbeddings\n\u001b[1;32m      5\u001b[0m example_selector \u001b[38;5;241m=\u001b[39m SemanticSimilarityExampleSelector\u001b[38;5;241m.\u001b[39mfrom_examples(\n\u001b[1;32m      6\u001b[0m     \u001b[38;5;66;03m# This is the list of examples available to select from.\u001b[39;00m\n\u001b[1;32m      7\u001b[0m     examples,\n\u001b[1;32m      8\u001b[0m     \u001b[38;5;66;03m# This is the embedding class used to produce embeddings which are used to measure semantic similarity.\u001b[39;00m\n\u001b[0;32m----> 9\u001b[0m     \u001b[43mOpenAIEmbeddings\u001b[49m\u001b[43m(\u001b[49m\u001b[43m)\u001b[49m,\n\u001b[1;32m     10\u001b[0m     \u001b[38;5;66;03m# This is the VectorStore class that is used to store the embeddings and do a similarity search over.\u001b[39;00m\n\u001b[1;32m     11\u001b[0m     Chroma,\n\u001b[1;32m     12\u001b[0m     \u001b[38;5;66;03m# This is the number of examples to produce.\u001b[39;00m\n\u001b[1;32m     13\u001b[0m     k\u001b[38;5;241m=\u001b[39m\u001b[38;5;241m1\u001b[39m,\n\u001b[1;32m     14\u001b[0m )\n\u001b[1;32m     16\u001b[0m \u001b[38;5;66;03m# Select the most similar example to the input.\u001b[39;00m\n\u001b[1;32m     17\u001b[0m question \u001b[38;5;241m=\u001b[39m \u001b[38;5;124m\"\u001b[39m\u001b[38;5;124mWho was the father of Mary Ball Washington?\u001b[39m\u001b[38;5;124m\"\u001b[39m\n",
      "File \u001b[0;32m~/miniconda3/envs/env_tf2/lib/python3.10/site-packages/pydantic/v1/main.py:341\u001b[0m, in \u001b[0;36mBaseModel.__init__\u001b[0;34m(__pydantic_self__, **data)\u001b[0m\n\u001b[1;32m    339\u001b[0m values, fields_set, validation_error \u001b[38;5;241m=\u001b[39m validate_model(__pydantic_self__\u001b[38;5;241m.\u001b[39m\u001b[38;5;18m__class__\u001b[39m, data)\n\u001b[1;32m    340\u001b[0m \u001b[38;5;28;01mif\u001b[39;00m validation_error:\n\u001b[0;32m--> 341\u001b[0m     \u001b[38;5;28;01mraise\u001b[39;00m validation_error\n\u001b[1;32m    342\u001b[0m \u001b[38;5;28;01mtry\u001b[39;00m:\n\u001b[1;32m    343\u001b[0m     object_setattr(__pydantic_self__, \u001b[38;5;124m'\u001b[39m\u001b[38;5;124m__dict__\u001b[39m\u001b[38;5;124m'\u001b[39m, values)\n",
      "\u001b[0;31mValidationError\u001b[0m: 1 validation error for OpenAIEmbeddings\n__root__\n  Did not find openai_api_key, please add an environment variable `OPENAI_API_KEY` which contains it, or pass `openai_api_key` as a named parameter. (type=value_error)"
     ]
    }
   ],
   "source": [
    "from langchain.prompts.example_selector import SemanticSimilarityExampleSelector\n",
    "from langchain_community.vectorstores import Chroma\n",
    "from langchain_openai import OpenAIEmbeddings\n",
    "\n",
    "example_selector = SemanticSimilarityExampleSelector.from_examples(\n",
    "    # This is the list of examples available to select from.\n",
    "    examples,\n",
    "    # This is the embedding class used to produce embeddings which are used to measure semantic similarity.\n",
    "    OpenAIEmbeddings(),\n",
    "    # This is the VectorStore class that is used to store the embeddings and do a similarity search over.\n",
    "    Chroma,\n",
    "    # This is the number of examples to produce.\n",
    "    k=1,\n",
    ")\n",
    "\n",
    "# Select the most similar example to the input.\n",
    "question = \"Who was the father of Mary Ball Washington?\"\n",
    "selected_examples = example_selector.select_examples({\"question\": question})\n",
    "print(f\"Examples most similar to the input: {question}\")\n",
    "for example in selected_examples:\n",
    "    print(\"\\n\")\n",
    "    for k, v in example.items():\n",
    "        print(f\"{k}: {v}\")"
   ]
  },
  {
   "cell_type": "code",
   "execution_count": 37,
   "id": "b9c71fee-8649-4eaa-a60c-7d9fdf705f41",
   "metadata": {},
   "outputs": [],
   "source": [
    "from langchain.agents import AgentType, initialize_agent, load_tools"
   ]
  },
  {
   "cell_type": "code",
   "execution_count": 42,
   "id": "7d925cad-0ce1-41b6-b99d-3775983481dc",
   "metadata": {},
   "outputs": [],
   "source": [
    "from langchain_community.utilities import SerpAPIWrapper"
   ]
  },
  {
   "cell_type": "code",
   "execution_count": 44,
   "id": "7581ef06-1cf1-401c-9ff9-bc98059b8f40",
   "metadata": {},
   "outputs": [],
   "source": [
    "!pip install --upgrade --quiet  duckduckgo-search"
   ]
  },
  {
   "cell_type": "code",
   "execution_count": 45,
   "id": "56421a9a-438c-4b65-bf0e-08a9081ff931",
   "metadata": {},
   "outputs": [],
   "source": [
    "from langchain_community.tools import DuckDuckGoSearchRun"
   ]
  },
  {
   "cell_type": "code",
   "execution_count": 46,
   "id": "cf7de2ab-3dae-46e2-bcb4-c868d455c7f2",
   "metadata": {},
   "outputs": [],
   "source": [
    "search = DuckDuckGoSearchRun()"
   ]
  },
  {
   "cell_type": "code",
   "execution_count": 47,
   "id": "6aab5a54-8c6e-46af-a807-3a0b87e6673c",
   "metadata": {},
   "outputs": [
    {
     "data": {
      "text/plain": [
       "\"Key events in the life of Barack Obama. Barack Obama (born August 4, 1961, Honolulu, Hawaii, U.S.) 44th president of the United States (2009-17) and the first African American to hold the office. Before winning the presidency, Obama represented Illinois in the U.S. Senate (2005-08). Barack Obama was the 44 th president of the United States and the first Black commander-in-chief. He served two terms, from 2009 until 2017. He served two terms, from 2009 until 2017. I became former First Lady Michelle Obama's body person. ... After President Barack Obama's term ended in January 2017, I was retained by the personal office of Barack and Michelle Obama as their ... Former President Barack Obama, born on Aug. 4, 1961, in Honolulu, Hawaii, made a name for himself during his decades spent in politics starting in 1997 as an Illinois State Senator. During his life… Barack and Michelle Obama's daughters, Malia and Sasha, grew up in the White House from 2009 to 2017. To most of the world, Barack and Michelle Obama are the former president and first lady of ...\""
      ]
     },
     "execution_count": 47,
     "metadata": {},
     "output_type": "execute_result"
    }
   ],
   "source": [
    "search.run(\"Obama's first name?\")"
   ]
  }
 ],
 "metadata": {
  "kernelspec": {
   "display_name": "TesorFlow",
   "language": "python",
   "name": "env_tf2"
  },
  "language_info": {
   "codemirror_mode": {
    "name": "ipython",
    "version": 3
   },
   "file_extension": ".py",
   "mimetype": "text/x-python",
   "name": "python",
   "nbconvert_exporter": "python",
   "pygments_lexer": "ipython3",
   "version": "3.10.13"
  }
 },
 "nbformat": 4,
 "nbformat_minor": 5
}
